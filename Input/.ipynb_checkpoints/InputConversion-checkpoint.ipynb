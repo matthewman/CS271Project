{
 "cells": [
  {
   "cell_type": "code",
   "execution_count": 166,
   "metadata": {},
   "outputs": [],
   "source": [
    "import random"
   ]
  },
  {
   "cell_type": "code",
   "execution_count": 167,
   "metadata": {},
   "outputs": [
    {
     "name": "stdout",
     "output_type": "stream",
     "text": [
      "10 10\n",
      "\n",
      "52 1 1 1 2 1 3 1 4 1 5 1 6 1 7 1 8 1 9 1 10 2 1 2 10 3 1 3 4 3 5 3 6 3 7 3 10 4 1 4 4 4 5 4 6 4 7 4 10 5 1 5 4 5 10 6 1 6 4 6 10 7 1 7 4 7 5 7 6 7 7 7 8 7 9 7 10 8 1 8 10 9 1 9 10 10 1 10 2 10 3 10 4 10 5 10 6 10 7 10 8 10 9 10 10\n",
      "\n",
      "3 3 8 3 9 6 6\n",
      "\n",
      "3 4 8 4 9 6 5\n",
      "\n",
      "9 9\n"
     ]
    }
   ],
   "source": [
    "inputFileName = \"10x10_MoreBox_00c.txt\"\n",
    "myfile = open(inputFileName)\n",
    "lines = []\n",
    "sizeH = 0\n",
    "sizeV = 0\n",
    "walls = []\n",
    "boxes = []\n",
    "storages = []\n",
    "agent = None\n",
    "for i, eachline in enumerate(myfile):\n",
    "    sizeV += 1\n",
    "    sizeH = len(eachline)\n",
    "    for j, eachchar in enumerate(eachline):\n",
    "        if eachchar == \"#\":\n",
    "            walls.append(str(i+1))\n",
    "            walls.append(str(j+1))\n",
    "        elif eachchar == \"$\":\n",
    "            boxes.append(str(i+1))\n",
    "            boxes.append(str(j+1))\n",
    "        elif eachchar == \".\":\n",
    "            storages.append(str(i+1))\n",
    "            storages.append(str(j+1))\n",
    "        elif eachchar == \"@\":\n",
    "            agent = str(i+1) + \" \" + str(j+1)\n",
    "myfile.close()\n",
    "\n",
    "def pairListToRequiredString(pairList):\n",
    "    return str(int(len(pairList)/2)) + \" \" + \" \".join(pairList)\n",
    "    \n",
    "\n",
    "line1 = str(sizeH) + \" \" + str(sizeV) + \"\\n\"\n",
    "line2 = pairListToRequiredString(walls) + \"\\n\"\n",
    "line3 = pairListToRequiredString(boxes) + \"\\n\"\n",
    "line4 = pairListToRequiredString(storages) + \"\\n\"\n",
    "line5 = agent\n",
    "print(line1)\n",
    "print(line2)\n",
    "print(line3)\n",
    "print(line4)\n",
    "print(agent)"
   ]
  },
  {
   "cell_type": "code",
   "execution_count": 168,
   "metadata": {},
   "outputs": [],
   "source": [
    "outputFileName = \"customSokoban_\" + inputFileName\n",
    "with open(outputFileName, 'w') as filetowrite:\n",
    "    filetowrite.writelines([line1, line2, line3, line4, line5])"
   ]
  }
 ],
 "metadata": {
  "kernelspec": {
   "display_name": "Python 3",
   "language": "python",
   "name": "python3"
  },
  "language_info": {
   "codemirror_mode": {
    "name": "ipython",
    "version": 3
   },
   "file_extension": ".py",
   "mimetype": "text/x-python",
   "name": "python",
   "nbconvert_exporter": "python",
   "pygments_lexer": "ipython3",
   "version": "3.7.4"
  }
 },
 "nbformat": 4,
 "nbformat_minor": 2
}
